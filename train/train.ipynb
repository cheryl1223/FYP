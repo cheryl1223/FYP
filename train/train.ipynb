{
 "cells": [
  {
   "cell_type": "code",
   "execution_count": 1,
   "metadata": {},
   "outputs": [
    {
     "name": "stderr",
     "output_type": "stream",
     "text": [
      "Using TensorFlow backend.\n"
     ]
    },
    {
     "name": "stdout",
     "output_type": "stream",
     "text": [
      "training dataset shape:  (2091900, 90)\n",
      "label shape:  (2091900, 88)\n"
     ]
    }
   ],
   "source": [
    "%matplotlib inline\n",
    "\n",
    "import matplotlib\n",
    "import numpy as np\n",
    "import matplotlib.pyplot as plt\n",
    "\n",
    "import os\n",
    "from keras.optimizers import SGD, Adagrad\n",
    "from keras.models import load_model, Sequential\n",
    "from keras.layers import Dense, Activation, Dropout\n",
    "from keras.callbacks import TensorBoard,EarlyStopping\n",
    "\n",
    "\n",
    "X = np.loadtxt(\"train.txt\")\n",
    "y = np.loadtxt(\"labels.txt\", dtype = int)\n",
    "print (\"training dataset shape: \", X.shape)\n",
    "print (\"label shape: \", y.shape)\n"
   ]
  },
  {
   "cell_type": "code",
   "execution_count": 4,
   "metadata": {},
   "outputs": [
    {
     "name": "stdout",
     "output_type": "stream",
     "text": [
      "_________________________________________________________________\n",
      "Layer (type)                 Output Shape              Param #   \n",
      "=================================================================\n",
      "dense_4 (Dense)              (None, 300)               27300     \n",
      "_________________________________________________________________\n",
      "dense_5 (Dense)              (None, 500)               150500    \n",
      "_________________________________________________________________\n",
      "dense_6 (Dense)              (None, 88)                44088     \n",
      "=================================================================\n",
      "Total params: 221,888\n",
      "Trainable params: 221,888\n",
      "Non-trainable params: 0\n",
      "_________________________________________________________________\n",
      "None\n",
      "Train on 1882710 samples, validate on 209190 samples\n",
      "Epoch 1/100\n",
      "1882710/1882710 [==============================] - 12s - loss: 0.0852 - acc: 0.9697 - val_loss: 0.0821 - val_acc: 0.9721\n",
      "Epoch 2/100\n",
      "1882710/1882710 [==============================] - 12s - loss: 0.0663 - acc: 0.9762 - val_loss: 0.0776 - val_acc: 0.9737\n",
      "Epoch 3/100\n",
      "1882710/1882710 [==============================] - 12s - loss: 0.0604 - acc: 0.9784 - val_loss: 0.0785 - val_acc: 0.9736\n",
      "training time: 37.0461s\n"
     ]
    }
   ],
   "source": [
    "import time\n",
    "# Artificial Neural Network\n",
    "batch_size = 1000\n",
    "epochs = 50\n",
    "optimizer = SGD(lr=0.9, decay=1e-5, momentum=0.9, nesterov=True)\n",
    "#optimizer = 'Adagrad'\n",
    "n_input = X.shape[1]\n",
    "n_output = y.shape[1]\n",
    "optimizer = SGD(lr=0.9, decay=1e-6, momentum=0.9, nesterov=True)\n",
    "\n",
    "start = time.time()\n",
    "nnmodel = Sequential()\n",
    "nnmodel.add(Dense(300,input_dim=n_input, activation='relu'))\n",
    "nnmodel.add(Dense(500,input_dim=n_input, activation='relu'))\n",
    "#model.add(Dropout(dropout))\n",
    "nnmodel.add(Dense(n_output, activation='sigmoid'))\n",
    "nnmodel.compile(loss='binary_crossentropy',optimizer=optimizer,metrics=['accuracy'])\n",
    "print (nnmodel.summary())\n",
    "#tbCallBack= TensorBoard(log_dir='./nn123', histogram_freq=0, write_graph=True, write_images=True)\n",
    "\n",
    "early = EarlyStopping(monitor='val_loss', min_delta=0.001, patience=0, verbose=0, mode='auto')\n",
    "history1 = nnmodel.fit(X, y,batch_size=batch_size, epochs=100,validation_split = 0.1, callbacks=[early])\n",
    "end = time.time()\n",
    "print (\"training time: %.4fs\"%( end-start))\n"
   ]
  },
  {
   "cell_type": "code",
   "execution_count": 5,
   "metadata": {},
   "outputs": [],
   "source": [
    "nnmodel.save('nn.h5')"
   ]
  },
  {
   "cell_type": "code",
   "execution_count": 6,
   "metadata": {},
   "outputs": [
    {
     "name": "stdout",
     "output_type": "stream",
     "text": [
      "training shape:  (418380, 5, 90, 1)\n",
      "label shape:  (418380, 88)\n"
     ]
    }
   ],
   "source": [
    "import numpy as np\n",
    "import os\n",
    "from math import floor\n",
    "from keras.models import Sequential\n",
    "from keras.layers import Dense, Dropout, Flatten,Activation\n",
    "from keras.layers import Conv2D, MaxPooling2D\n",
    "from keras.optimizers import SGD,Adagrad,rmsprop\n",
    "from keras.layers.normalization import BatchNormalization\n",
    "\n",
    "\n",
    "\n",
    "#optimizer = 'Adagrad'\n",
    "n = floor(X.shape[0]/5)\n",
    "X_dim = X.shape[1]\n",
    "X_train = X[0:5*n].reshape(n,5,X_dim,1)\n",
    "del X\n",
    "y_train = []\n",
    "for i in range(n):\n",
    "    y_train.append(y[5*i+2,:])\n",
    "y_train = np.asarray(y_train)\n",
    "del y\n",
    "print (\"training shape: \", X_train.shape)\n",
    "print (\"label shape: \", y_train.shape)"
   ]
  },
  {
   "cell_type": "code",
   "execution_count": 9,
   "metadata": {},
   "outputs": [
    {
     "name": "stdout",
     "output_type": "stream",
     "text": [
      "_________________________________________________________________\n",
      "Layer (type)                 Output Shape              Param #   \n",
      "=================================================================\n",
      "conv2d_7 (Conv2D)            (None, 5, 90, 20)         200       \n",
      "_________________________________________________________________\n",
      "activation_9 (Activation)    (None, 5, 90, 20)         0         \n",
      "_________________________________________________________________\n",
      "conv2d_8 (Conv2D)            (None, 3, 88, 20)         3620      \n",
      "_________________________________________________________________\n",
      "activation_10 (Activation)   (None, 3, 88, 20)         0         \n",
      "_________________________________________________________________\n",
      "max_pooling2d_5 (MaxPooling2 (None, 1, 44, 20)         0         \n",
      "_________________________________________________________________\n",
      "dropout_7 (Dropout)          (None, 1, 44, 20)         0         \n",
      "_________________________________________________________________\n",
      "conv2d_9 (Conv2D)            (None, 1, 44, 40)         7240      \n",
      "_________________________________________________________________\n",
      "activation_11 (Activation)   (None, 1, 44, 40)         0         \n",
      "_________________________________________________________________\n",
      "max_pooling2d_6 (MaxPooling2 (None, 1, 22, 40)         0         \n",
      "_________________________________________________________________\n",
      "dropout_8 (Dropout)          (None, 1, 22, 40)         0         \n",
      "_________________________________________________________________\n",
      "flatten_3 (Flatten)          (None, 880)               0         \n",
      "_________________________________________________________________\n",
      "dense_11 (Dense)             (None, 512)               451072    \n",
      "_________________________________________________________________\n",
      "activation_12 (Activation)   (None, 512)               0         \n",
      "_________________________________________________________________\n",
      "dropout_9 (Dropout)          (None, 512)               0         \n",
      "_________________________________________________________________\n",
      "dense_12 (Dense)             (None, 88)                45144     \n",
      "=================================================================\n",
      "Total params: 507,276\n",
      "Trainable params: 507,276\n",
      "Non-trainable params: 0\n",
      "_________________________________________________________________\n",
      "None\n",
      "Train on 376542 samples, validate on 41838 samples\n",
      "Epoch 1/500\n",
      "376542/376542 [==============================] - 25s - loss: 0.1215 - acc: 0.9587 - val_loss: 0.0841 - val_acc: 0.9715\n",
      "Epoch 2/500\n",
      "376542/376542 [==============================] - 25s - loss: 0.0892 - acc: 0.9673 - val_loss: 0.0787 - val_acc: 0.9733\n",
      "Epoch 3/500\n",
      "376542/376542 [==============================] - 24s - loss: 0.0836 - acc: 0.9693 - val_loss: 0.0757 - val_acc: 0.9743\n",
      "Epoch 4/500\n",
      "376542/376542 [==============================] - 24s - loss: 0.0803 - acc: 0.9704 - val_loss: 0.0739 - val_acc: 0.9747\n",
      "Epoch 5/500\n",
      "376542/376542 [==============================] - 24s - loss: 0.0782 - acc: 0.9712 - val_loss: 0.0740 - val_acc: 0.9744\n",
      "Epoch 6/500\n",
      "376542/376542 [==============================] - 24s - loss: 0.0763 - acc: 0.9719 - val_loss: 0.0732 - val_acc: 0.9749\n",
      "Epoch 7/500\n",
      "376542/376542 [==============================] - 25s - loss: 0.0750 - acc: 0.9723 - val_loss: 0.0724 - val_acc: 0.9751\n",
      "Epoch 8/500\n",
      "376542/376542 [==============================] - 25s - loss: 0.0739 - acc: 0.9727 - val_loss: 0.0719 - val_acc: 0.9751\n",
      "Epoch 9/500\n",
      "376542/376542 [==============================] - 25s - loss: 0.0731 - acc: 0.9730 - val_loss: 0.0724 - val_acc: 0.9750\n",
      "Epoch 10/500\n",
      "376542/376542 [==============================] - 25s - loss: 0.0723 - acc: 0.9733 - val_loss: 0.0710 - val_acc: 0.9754\n",
      "Epoch 11/500\n",
      "376542/376542 [==============================] - 25s - loss: 0.0717 - acc: 0.9735 - val_loss: 0.0713 - val_acc: 0.9756\n",
      "Epoch 12/500\n",
      "376542/376542 [==============================] - 25s - loss: 0.0712 - acc: 0.9736 - val_loss: 0.0716 - val_acc: 0.9753\n",
      "Epoch 13/500\n",
      "376542/376542 [==============================] - 25s - loss: 0.0707 - acc: 0.9738 - val_loss: 0.0712 - val_acc: 0.9755\n"
     ]
    }
   ],
   "source": [
    "#Convolution neural network\n",
    "batch_size = 200\n",
    "epochs = 500\n",
    "activation = 'relu'\n",
    "optimizer = SGD(lr=0.9, decay=1e-6, momentum=0.9, nesterov=True)\n",
    "#optimizer = rmsprop(lr=0.1, decay=1e-6)\n",
    "input_shape = (5, 90,1)\n",
    "\n",
    "start = time.time()\n",
    "model = Sequential()\n",
    "\n",
    "model.add(Conv2D(20, (3, 3), padding='same',\n",
    "                 input_shape=input_shape))\n",
    "model.add(Activation('relu'))\n",
    "model.add(Conv2D(20, (3, 3)))\n",
    "model.add(Activation('relu'))\n",
    "model.add(MaxPooling2D(pool_size=(2, 2)))\n",
    "model.add(Dropout(0.25))\n",
    "\n",
    "model.add(Conv2D(40, (3, 3), padding='same'))\n",
    "model.add(Activation('relu'))\n",
    "model.add(MaxPooling2D(pool_size=(1, 2)))\n",
    "model.add(Dropout(0.25))\n",
    "\n",
    "model.add(Flatten())\n",
    "model.add(Dense(512))\n",
    "model.add(Activation('relu'))\n",
    "model.add(Dropout(0.5))\n",
    "\n",
    "model.add(Dense(88, activation='sigmoid'))\n",
    "model.compile(loss='binary_crossentropy',optimizer=optimizer,metrics=['accuracy'])\n",
    "print (model.summary())\n",
    "early = EarlyStopping(monitor='val_loss', min_delta=0, patience=2, verbose=0, mode='auto')\n",
    "history2 = model.fit(X_train, y_train,batch_size=batch_size,epochs=epochs,validation_split = 0.1,callbacks=[early])\n",
    "end = time.time()"
   ]
  },
  {
   "cell_type": "code",
   "execution_count": 10,
   "metadata": {},
   "outputs": [
    {
     "name": "stdout",
     "output_type": "stream",
     "text": [
      "training time: 326.9527s\n"
     ]
    }
   ],
   "source": [
    "print (\"training time: %.4fs\"%( end-start))\n",
    "model.save('cnn.h5')"
   ]
  },
  {
   "cell_type": "code",
   "execution_count": 11,
   "metadata": {},
   "outputs": [
    {
     "data": {
      "image/png": "[encoded data removed]",
      "text/plain": [
       "<matplotlib.figure.Figure at 0x7f96a36dd128>"
      ]
     },
     "metadata": {},
     "output_type": "display_data"
    }
   ],
   "source": [
    "plt.plot(history1.history['loss'])\n",
    "plt.plot(history2.history['loss'])\n",
    "\n",
    "plt.title('binary cross-entropy loss')\n",
    "plt.ylabel('loss')\n",
    "plt.xlabel('epoch')\n",
    "plt.legend(['nn','cnn'], loc='best')\n",
    "plt.show()"
   ]
  },
  {
   "cell_type": "code",
   "execution_count": 12,
   "metadata": {},
   "outputs": [
    {
     "data": {
      "image/png": "[encoded data removed]",
      "text/plain": [
       "<matplotlib.figure.Figure at 0x7f96a365e400>"
      ]
     },
     "metadata": {},
     "output_type": "display_data"
    }
   ],
   "source": [
    "plt.plot(history1.history['val_acc'])\n",
    "plt.plot(history2.history['val_acc'])\n",
    "\n",
    "plt.title('validation accuracy')\n",
    "plt.ylabel('loss')\n",
    "plt.xlabel('epoch')\n",
    "plt.legend([ 'nn', 'cnn'], loc='best')\n",
    "plt.show()"
   ]
  },
  {
   "cell_type": "code",
   "execution_count": null,
   "metadata": {
    "collapsed": true
   },
   "outputs": [],
   "source": []
  }
 ],
 "metadata": {
  "kernelspec": {
   "display_name": "Python 3",
   "language": "python",
   "name": "python3"
  },
  "language_info": {
   "codemirror_mode": {
    "name": "ipython",
    "version": 3
   },
   "file_extension": ".py",
   "mimetype": "text/x-python",
   "name": "python",
   "nbconvert_exporter": "python",
   "pygments_lexer": "ipython3",
   "version": "3.4.3"
  }
 },
 "nbformat": 4,
 "nbformat_minor": 2
}
